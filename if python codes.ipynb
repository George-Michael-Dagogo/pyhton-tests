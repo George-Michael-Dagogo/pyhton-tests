{
 "cells": [
  {
   "cell_type": "code",
   "execution_count": 1,
   "metadata": {},
   "outputs": [
    {
     "name": "stdout",
     "output_type": "stream",
     "text": [
      "Enter your numeric guess: 3\n",
      "you got it\n"
     ]
    }
   ],
   "source": [
    "#guessing game\n",
    "from random import randint\n",
    "num = randint (1,5)\n",
    "guess = eval(input('Enter your numeric guess: '))\n",
    "if guess==num:\n",
    "    print('you got it')\n",
    "else:\n",
    "    print('sorry. the number is ', num)"
   ]
  },
  {
   "cell_type": "code",
   "execution_count": 2,
   "metadata": {},
   "outputs": [
    {
     "name": "stdout",
     "output_type": "stream",
     "text": [
      "enter score: 99\n",
      "you got an A\n"
     ]
    }
   ],
   "source": [
    "#score computer\n",
    "score =eval (input('enter score: '))\n",
    "if score >= 80:\n",
    "    print('you got an A')\n",
    "if score >= 60 and score <80:\n",
    "    print('you got a B')\n",
    "if score >=50 and score <60:\n",
    "    print('you got a C')\n",
    "if score >=40 and score <50:\n",
    "    print('you got a Pass')\n",
    "if score <40:\n",
    "    print('you failed the course') "
   ]
  },
  {
   "cell_type": "code",
   "execution_count": 3,
   "metadata": {},
   "outputs": [
    {
     "name": "stdout",
     "output_type": "stream",
     "text": [
      "enter score: 45\n",
      "you got a Pass\n"
     ]
    }
   ],
   "source": [
    "score =eval (input('enter score: '))\n",
    "if 80<=score<= 100:\n",
    "    print('you got an A')\n",
    "if score >= 60 and score <80:\n",
    "    print('you got a B')\n",
    "if score >=50 and score <60:\n",
    "    print('you got a C')\n",
    "if 40<=score <50:\n",
    "    print('you got a Pass')\n",
    "if score < 40:\n",
    "    print('you failed the course')    \n"
   ]
  },
  {
   "cell_type": "code",
   "execution_count": 4,
   "metadata": {},
   "outputs": [
    {
     "name": "stdout",
     "output_type": "stream",
     "text": [
      "enter score: 56\n",
      "Pass\n"
     ]
    }
   ],
   "source": [
    "#elif with score\n",
    "score =eval (input('enter score: '))\n",
    "if score>80:\n",
    "    print('you got an A')\n",
    "elif score >=70:\n",
    "    print('B')\n",
    "elif score >= 60:\n",
    "    print('C')\n",
    "elif score >= 50:\n",
    "    print('Pass') \n",
    "\n"
   ]
  },
  {
   "cell_type": "code",
   "execution_count": 5,
   "metadata": {},
   "outputs": [
    {
     "name": "stdout",
     "output_type": "stream",
     "text": [
      "Enter measurement in Centimeters: 4\n",
      "inch to cm=  10.16 cm\n"
     ]
    }
   ],
   "source": [
    "#inch to cm\n",
    "length = eval(input('Enter measurement in Centimeters: '))\n",
    "if length <0:\n",
    "    print('entry is invalid')\n",
    "else:\n",
    "    print('inch to cm= ', length*2.54, 'cm')\n"
   ]
  },
  {
   "cell_type": "code",
   "execution_count": 12,
   "metadata": {},
   "outputs": [
    {
     "name": "stdout",
     "output_type": "stream",
     "text": [
      "Enter a temperature: 333\n",
      "what unit is your temperature: Celcius\n",
      "Celcius to farenheit =  631.4\n"
     ]
    }
   ],
   "source": [
    "#if temp converter\n",
    "temp = eval(input('Enter a temperature: '))\n",
    "Farenheit = 9/5*temp+32\n",
    "Celcius = 5/9*(temp-32)\n",
    "unit = eval(input('what unit is your temperature: '))\n",
    "if unit == Farenheit:\n",
    "    print('farenheit to celcius = ',Celcius)\n",
    "if unit == Celcius:\n",
    "    print('Celcius to farenheit = ', Farenheit)\n"
   ]
  },
  {
   "cell_type": "code",
   "execution_count": 13,
   "metadata": {},
   "outputs": [
    {
     "name": "stdout",
     "output_type": "stream",
     "text": [
      "Enter a temperature: 4\n",
      "Temperature is in the normal range\n"
     ]
    }
   ],
   "source": [
    "#code for temperature Kelvin\n",
    "temp = eval(input('Enter a temperature: '))\n",
    "if temp < -273.15:\n",
    "    print('Temperature is invalid as it is below freezing point')\n",
    "if temp == -273.15:\n",
    "    print('Temperature is below absolute zero')\n",
    "if temp >= -273.5 and temp <= 0:\n",
    "    print('Temperature is below freezing point')\n",
    "if temp == 0:\n",
    "    print('Temperature is at freezing point')\n",
    "if temp >=0 and temp <= 100:\n",
    "    print('Temperature is in the normal range')\n",
    "if temp == 100:\n",
    "    print('Temperature is at boiling point')\n",
    "if temp > 100:\n",
    "    print('Temperature is above boiling point')\n"
   ]
  },
  {
   "cell_type": "code",
   "execution_count": 14,
   "metadata": {},
   "outputs": [
    {
     "name": "stdout",
     "output_type": "stream",
     "text": [
      "how many items did you want to purchase: 344\n",
      "total cost=  2408\n"
     ]
    }
   ],
   "source": [
    "#code for buying\n",
    "bought = eval(input('how many items did you want to purchase: '))\n",
    "if bought < 10:\n",
    "    print('total cost= ', 12*bought)\n",
    "if bought >=10 and bought<=99:\n",
    "    print('total cost= ', 10*bought)\n",
    "if bought> 100:\n",
    "    print('total cost= ', 7*bought)\n"
   ]
  },
  {
   "cell_type": "code",
   "execution_count": null,
   "metadata": {},
   "outputs": [],
   "source": []
  }
 ],
 "metadata": {
  "kernelspec": {
   "display_name": "Python 3",
   "language": "python",
   "name": "python3"
  },
  "language_info": {
   "codemirror_mode": {
    "name": "ipython",
    "version": 3
   },
   "file_extension": ".py",
   "mimetype": "text/x-python",
   "name": "python",
   "nbconvert_exporter": "python",
   "pygments_lexer": "ipython3",
   "version": "3.7.6"
  }
 },
 "nbformat": 4,
 "nbformat_minor": 4
}
